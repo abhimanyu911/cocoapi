{
 "cells": [
  {
   "cell_type": "code",
   "execution_count": 2,
   "id": "bdb4d4e6-544b-4a74-be15-e4f70eb0592a",
   "metadata": {},
   "outputs": [
    {
     "name": "stdout",
     "output_type": "stream",
     "text": [
      "loading annotations into memory...\n",
      "Done (t=0.06s)\n",
      "creating index...\n",
      "index created!\n",
      "Loading and preparing results...\n",
      "DONE (t=0.08s)\n",
      "creating index...\n",
      "index created!\n",
      "Running per image evaluation...\n",
      "Evaluate annotation type *bbox*\n",
      "DONE (t=4.63s).\n",
      "Accumulating evaluation results...\n",
      "DONE (t=0.11s).\n",
      "\n",
      "RESULTS:\n",
      "\n",
      " Average Precision  (AP) @[ IoU=0.50:0.95 | area=   all | maxDets=200 ] = 0.171\n",
      " Average Precision  (AP) @[ IoU=0.50      | area=   all | maxDets=200 ] = 0.385\n",
      " Average Precision  (AP) @[ IoU=0.75      | area=   all | maxDets=200 ] = 0.129\n",
      " Average Precision  (AP) @[ IoU=0.50:0.95 | area= small | maxDets=200 ] = 0.141\n",
      " Average Precision  (AP) @[ IoU=0.50:0.95 | area=medium | maxDets=200 ] = 0.540\n",
      " Average Precision  (AP) @[ IoU=0.50:0.95 | area= large | maxDets=200 ] = 0.765\n",
      " Average Recall     (AR) @[ IoU=0.50:0.95 | area=   all | maxDets=200 ] = 0.214\n",
      " Average Recall     (AR) @[ IoU=0.50:0.95 | area= small | maxDets=200 ] = 0.188\n",
      " Average Recall     (AR) @[ IoU=0.50:0.95 | area=medium | maxDets=200 ] = 0.639\n",
      " Average Recall     (AR) @[ IoU=0.50:0.95 | area= large | maxDets=200 ] = 0.848\n"
     ]
    }
   ],
   "source": [
    "from pycocotools.calculate_mAP import mean_average_precision\n",
    "\n",
    "\n",
    "#annType- type of annotation\n",
    "\n",
    "#annFile- ground truth annotations file\n",
    "\n",
    "#resFile- results file for detections\n",
    "\n",
    "#maxDets- maximum detections\n",
    "\n",
    "mean_average_precision(annType='bbox', annFile='C:\\\\data\\\\test_anns.json', \n",
    "                       resFile='C:\\\\data\\\\results\\\\results_modified.json', \n",
    "                       maxDets=200)"
   ]
  },
  {
   "cell_type": "code",
   "execution_count": null,
   "id": "0885bef1-6d0a-469f-8e00-13baa1cfa3a8",
   "metadata": {},
   "outputs": [],
   "source": []
  }
 ],
 "metadata": {
  "kernelspec": {
   "display_name": "Python 3",
   "language": "python",
   "name": "python3"
  },
  "language_info": {
   "codemirror_mode": {
    "name": "ipython",
    "version": 3
   },
   "file_extension": ".py",
   "mimetype": "text/x-python",
   "name": "python",
   "nbconvert_exporter": "python",
   "pygments_lexer": "ipython3",
   "version": "3.6.13"
  }
 },
 "nbformat": 4,
 "nbformat_minor": 5
}
